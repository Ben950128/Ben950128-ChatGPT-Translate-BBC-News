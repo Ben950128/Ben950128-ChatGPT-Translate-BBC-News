{
 "cells": [
  {
   "cell_type": "code",
   "execution_count": 99,
   "metadata": {},
   "outputs": [],
   "source": [
    "import requests\n",
    "import openai\n",
    "import os\n",
    "from dotenv import load_dotenv\n",
    "from bs4 import BeautifulSoup\n",
    "from selenium import webdriver"
   ]
  },
  {
   "cell_type": "code",
   "execution_count": null,
   "metadata": {},
   "outputs": [],
   "source": [
    "load_dotenv()\n",
    "chrome_options = webdriver.ChromeOptions()\n",
    "chrome_options.add_argument(\"--headless\")\n",
    "chrome_options.add_argument(\"--disable-gpu\")\n",
    "chrome_options.add_argument(\"--no-sandbox\")\n",
    "chrome_options.add_argument(\"--disable-dev-shm-usage\")\n",
    "chrome_options.add_argument(\"--window-size=1920,1080\")\n",
    "driver = webdriver.Chrome(options=chrome_options)\n",
    "driver.get(\"https://www.bbc.com/news\")\n",
    "soup = BeautifulSoup(driver.page_source, \"html.parser\")"
   ]
  },
  {
   "cell_type": "code",
   "execution_count": 91,
   "metadata": {},
   "outputs": [
    {
     "name": "stdout",
     "output_type": "stream",
     "text": [
      "['/news/world-australia-64945819', '/news/world-australia-64945819', '/news/world-asia-china-64948594', '/news/world-us-canada-64935170', '/news/world-asia-64947871', '/news/world-asia-india-64899487', '/news/world-asia-india-64889122', '/news/world-europe-64946070', '/news/world-asia-64950117', '/news/business-64947695', '/news/uk-64940530', '/news/world-us-canada-64947528', '/news/uk-64940530', '/news/world-us-canada-64947528', '/news/world-asia-64938840', '/news/64919126', '/news/entertainment-arts-64942684', '/news/world_radio_and_tv', '/news/world-asia-64936322', '/news/world-64915348', '/news/world-us-canada-64938134', '/news/entertainment-arts-64935925', '/news/uk-64929759', '/news/world-europe-64946070', '/news/entertainment-arts-64942684', '/news/entertainment-arts-64946198', '/news/entertainment-arts-64935382', '/news/entertainment-arts-64936419', '/news/entertainment-arts-64938314', '/news/world-asia-india-64935389', '/news/world-africa-64941144', '/news/business-64703976', '/news/world-asia-64753169', '/news/world-us-canada-64944535', '/news/world-asia-64947871', '/news/world-australia-64945819', '/news/world-us-canada-64935170', '/news/world-asia-china-64948594', '/news/uk-64940530', '/news/business-64947695', '/news/64919126', '/news/entertainment-arts-64935925', '/news/entertainment-arts-64935067', '/news/world-us-canada-64943603', '/news/world-asia-64947871', '/news/world-australia-64945819', '/news/world-us-canada-64935170', '/news/world-asia-china-64948594', '/news/uk-64940530', '/news/business-64947695', '/news/64919126', '/news/entertainment-arts-64935925', '/news/entertainment-arts-64935067', '/news/world-us-canada-64943603']\n",
      "54\n"
     ]
    }
   ],
   "source": [
    "title_tags = soup.select(\"a.gs-c-promo-heading\")\n",
    "news_urls = []\n",
    "for title_tag in title_tags:\n",
    "    news_urls.append(title_tag[\"href\"]) if \"news\" in title_tag[\"href\"] else None\n",
    "print(news_urls)\n",
    "print(len(news_urls))\n"
   ]
  },
  {
   "cell_type": "code",
   "execution_count": 97,
   "metadata": {},
   "outputs": [
    {
     "name": "stdout",
     "output_type": "stream",
     "text": [
      "Aukus deal: US, UK and Australia agree on nuclear submarine project https://www.bbc.com/news/world-australia-64945819\n",
      "Aukus deal: US, UK and Australia agree on nuclear submarine project https://www.bbc.com/news/world-australia-64945819\n",
      "China reopening borders to foreign tourists for first time since Covid erupted https://www.bbc.com/news/world-asia-china-64948594\n",
      "Bali plans tourist motorbike ban over misbehaviour https://www.bbc.com/news/world-asia-64947871\n",
      "Bhopal gas tragedy: Supreme Court rejects more money for victims https://www.bbc.com/news/world-asia-india-64899487\n",
      "GaaSyy: Japan YouTuber MP expelled for never going to work https://www.bbc.com/news/world-asia-64950117\n",
      "US court rules Uber and Lyft workers are contractors https://www.bbc.com/news/business-64947695\n",
      "King Charles makes first appearance on special stamps https://www.bbc.com/news/uk-64940530\n",
      "Canada: Truck ploughs into pedestrians, killing two https://www.bbc.com/news/world-us-canada-64947528\n",
      "King Charles makes first appearance on special stamps https://www.bbc.com/news/uk-64940530\n",
      "Canada: Truck ploughs into pedestrians, killing two https://www.bbc.com/news/world-us-canada-64947528\n",
      "Iwao Hakamada: Japan retrial for world's longest-serving death row inmate https://www.bbc.com/news/world-asia-64938840\n",
      "Vinyl records outsell CDs for first time in decades https://www.bbc.com/news/64919126\n",
      "Timed Teaser: When might the asteroid hit Earth? https://www.bbc.com/news/world-us-canada-64938134\n",
      "7 best Oscars moments from the 95th Academy Awards https://www.bbc.com/news/entertainment-arts-64935925\n",
      "Oscars 2023: RRR's Naatu Naatu wins best original song https://www.bbc.com/news/world-asia-india-64935389\n",
      "Willow oil: Biden walks political tightrope over Alaska project https://www.bbc.com/news/world-us-canada-64944535\n",
      "Bali plans tourist motorbike ban over misbehaviour https://www.bbc.com/news/world-asia-64947871\n",
      "Aukus deal: US, UK and Australia agree on nuclear submarine project https://www.bbc.com/news/world-australia-64945819\n",
      "China reopening borders to foreign tourists for first time since Covid erupted https://www.bbc.com/news/world-asia-china-64948594\n",
      "King Charles makes first appearance on special stamps https://www.bbc.com/news/uk-64940530\n",
      "US court rules Uber and Lyft workers are contractors https://www.bbc.com/news/business-64947695\n",
      "Vinyl records outsell CDs for first time in decades https://www.bbc.com/news/64919126\n",
      "7 best Oscars moments from the 95th Academy Awards https://www.bbc.com/news/entertainment-arts-64935925\n",
      "Oscars (not red) carpet: The best fashion looks - in pictures https://www.bbc.com/news/entertainment-arts-64935067\n",
      "Willow Project: US government approves Alaska oil and gas development https://www.bbc.com/news/world-us-canada-64943603\n",
      "Bali plans tourist motorbike ban over misbehaviour https://www.bbc.com/news/world-asia-64947871\n",
      "Aukus deal: US, UK and Australia agree on nuclear submarine project https://www.bbc.com/news/world-australia-64945819\n",
      "China reopening borders to foreign tourists for first time since Covid erupted https://www.bbc.com/news/world-asia-china-64948594\n",
      "King Charles makes first appearance on special stamps https://www.bbc.com/news/uk-64940530\n",
      "US court rules Uber and Lyft workers are contractors https://www.bbc.com/news/business-64947695\n",
      "Vinyl records outsell CDs for first time in decades https://www.bbc.com/news/64919126\n",
      "7 best Oscars moments from the 95th Academy Awards https://www.bbc.com/news/entertainment-arts-64935925\n",
      "Oscars (not red) carpet: The best fashion looks - in pictures https://www.bbc.com/news/entertainment-arts-64935067\n",
      "Willow Project: US government approves Alaska oil and gas development https://www.bbc.com/news/world-us-canada-64943603\n",
      "35\n"
     ]
    }
   ],
   "source": [
    "base_url = \"https://www.bbc.com\"\n",
    "num = 0\n",
    "for sub_url in news_urls:\n",
    "    driver.get(base_url + sub_url)\n",
    "    soup = BeautifulSoup(driver.page_source, \"html.parser\")\n",
    "    article = soup.select(\"article\")\n",
    "    try:\n",
    "        header = article[0].select(\"header > h1\")[0].text\n",
    "        contents = article[0].select(\"div[data-component='text-block']\")\n",
    "        news = \"\"\n",
    "        for content in contents:\n",
    "            news = news + content.text + \"\\n\"\n",
    "\n",
    "        if len(news.split()) < 800:\n",
    "            num += 1\n",
    "            print(header, base_url + sub_url)\n",
    "\n",
    "    except:\n",
    "        pass\n",
    "\n",
    "print(num)"
   ]
  },
  {
   "cell_type": "code",
   "execution_count": 61,
   "metadata": {},
   "outputs": [
    {
     "name": "stdout",
     "output_type": "stream",
     "text": [
      "美國、英國和澳洲公布了他們計劃創建新型核動力潛艇艦隊的計畫細節，旨在對抗中國在印度-太平洋地區的影響力。根據“Aukus”協議，澳洲將從美國獲得至少三艘第一批核動力潛艇，同盟國還將使用最尖端的技術，包括英國製造的勞斯萊斯反應堆，創建一個新艦隊。北京強烈批評這份重要的海軍協議，外交部星期二指控這三個國家“走得越來越遠，而且更危險”。中國的聯合國代表團早些時候也指責西方盟友阻礙了核不擴散的努力。\n",
      "\n",
      "但美國總統拜登表示，這份協議旨在增強該地區的和平，並強調這些潛艇將“動力由核動力提供，而非搭載核彈頭”。拜登在加利福尼亞州聖地牙哥與英國和澳洲的總理，瑞士尚克和安東尼·奧爾巴尼斯一起發言時表示，這份協議不會危及澳洲成為一個無核國家的承諾。對於澳洲來說，這是其軍事能力的一次重大升級，這個國家成為除英國外，第二個獲得華盛頓精英核動力技術的國家，這些潛艇將能夠比該國現有的柴油發動機艦隊行動更遠、更快，並且澳洲還將首次能夠對敵人實施遠程打擊。根據這份協議，澳洲海軍水手將從今年開始被派往美國和英國潛艇基地學習如何使用核動力潛艇。從2027年開始，美國和英國還將在西澳大利亞州的珀斯部署少量核潛艇，到了2030年代初期，堪培拉將購買三艘美國維吉尼亞級潛艇，並有購買兩艘的選項。此後，計劃是為英國和澳洲海軍設計和建造一艘全新的核動力潛艇，這種被稱為SSN-AUKUS的模型，將在英國和澳洲建造，採用三個國家的技術。\n",
      "\n",
      "拜登總統表示，所有三個國家都致力於確保印度－太平洋地區保持自由和開放。他說：“通過建立這個新的夥伴關係，我們再次展示了民主國家如何為我們自己的安全和繁榮服務……不僅是為我們，而是為整個世界。”他還承諾投入46億英鎊（37億美元）用於擴建美國潛艇建造能力和改善其現有的維吉尼亞級核動力潛艇的維護。澳洲總理表示，這份計畫耗資澳洲3680億澳元（2010億英鎊），是該國歷史上的“最大防禦能力單一投資”。奧尼·阿爾巴尼斯說，在澳洲造潛艇還將創造數千個當地工作機會。英國首相表示，自Aukus聯盟在2021年9月宣布以來，全球穩定局勢的挑戰只有增加。“俄羅斯非法入侵烏克蘭、中國日益強硬、伊朗和北韓的破壞性行為－所有這些都可能創造出一個危機四伏、混亂和分裂的世界，”瑞斯莎克表示。\n",
      "\n",
      "Aukus安全聯盟自2021年9月公布以來，一直遭到中國的批評，北京外交部上周重申其立場，指出該協議有可能引發軍備競賽。然而，三個西方國家表示，這份安全協議旨在鞏固印度－太平洋地區的穩定。儘管三位領導人強調這份協議將增強它們之間的合作，但這並不是沒有政治後果。2021年，澳洲取消了與法國的一份價值數百萬美金的柴油動力潛艇協議，以支持三國協議，這導致澳洲與法國之間產生了政治分裂。澳洲還面臨著與中國－其最大的貿易夥伴－微妙的外交局勢。分析人士認為，問題在於澳洲能否在加強與美國的軍事關係的同時，培育與北京的商業聯繫。\n"
     ]
    }
   ],
   "source": [
    "openai.api_key = os.getenv(\"CHATGPT_KEY\")\n",
    "completion = openai.ChatCompletion.create(\n",
    "    model=\"gpt-3.5-turbo\",\n",
    "    messages=[\n",
    "        {\"role\": \"user\", \"content\": f'用繁體中文翻譯以下文章:\\n{news}'}\n",
    "    ]\n",
    ")\n",
    "news_tw = completion.choices[0].message.content\n",
    "print(news_tw)"
   ]
  },
  {
   "cell_type": "code",
   "execution_count": 63,
   "metadata": {},
   "outputs": [
    {
     "name": "stdout",
     "output_type": "stream",
     "text": [
      "{\n",
      "  \"completion_tokens\": 1749,\n",
      "  \"prompt_tokens\": 860,\n",
      "  \"total_tokens\": 2609\n",
      "}\n"
     ]
    }
   ],
   "source": [
    "print(completion.usage)"
   ]
  }
 ],
 "metadata": {
  "kernelspec": {
   "display_name": "Python 3",
   "language": "python",
   "name": "python3"
  },
  "language_info": {
   "codemirror_mode": {
    "name": "ipython",
    "version": 3
   },
   "file_extension": ".py",
   "mimetype": "text/x-python",
   "name": "python",
   "nbconvert_exporter": "python",
   "pygments_lexer": "ipython3",
   "version": "3.10.10"
  },
  "orig_nbformat": 4
 },
 "nbformat": 4,
 "nbformat_minor": 2
}
