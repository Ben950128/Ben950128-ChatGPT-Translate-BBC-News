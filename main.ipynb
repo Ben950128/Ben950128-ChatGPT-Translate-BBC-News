{
 "cells": [
  {
   "cell_type": "code",
   "execution_count": 14,
   "metadata": {},
   "outputs": [],
   "source": [
    "import openai\n",
    "import os\n",
    "import uuid\n",
    "from elasticsearch import Elasticsearch\n",
    "from dotenv import load_dotenv\n",
    "from bs4 import BeautifulSoup\n",
    "from selenium import webdriver\n",
    "from datetime import date"
   ]
  },
  {
   "attachments": {},
   "cell_type": "markdown",
   "metadata": {},
   "source": [
    "#### 連OPENAI API"
   ]
  },
  {
   "cell_type": "code",
   "execution_count": 2,
   "metadata": {},
   "outputs": [],
   "source": [
    "def translate_news(news: str)-> str:\n",
    "    openai.api_key = os.getenv(\"CHATGPT_KEY\")\n",
    "    completion = openai.ChatCompletion.create(\n",
    "        model=\"gpt-3.5-turbo\",\n",
    "        messages=[\n",
    "            {\"role\": \"user\", \"content\": f'翻譯以下文章，並用繁體中文回傳:\\n{news}'}\n",
    "        ]\n",
    "    )\n",
    "    return completion.choices[0].message.content"
   ]
  },
  {
   "attachments": {},
   "cell_type": "markdown",
   "metadata": {},
   "source": [
    "#### 爬取BBC新聞的URL"
   ]
  },
  {
   "cell_type": "code",
   "execution_count": 5,
   "metadata": {},
   "outputs": [
    {
     "name": "stdout",
     "output_type": "stream",
     "text": [
      "world\n",
      "business\n",
      "technology\n",
      "science_and_environment\n",
      "stories\n",
      "entertainment_and_arts\n",
      "health\n",
      "{'world': ['/news/world-europe-64986486', '/news/world-europe-64984374', '/news/world-middle-east-64976639', '/news/world-asia-china-64985527', '/news/business-64986520', '/news/world-latin-america-64985010', '/news/world-australia-64984949', '/news/world-europe-64976079', '/news/world-asia-india-64974627', '/news/world-africa-64981875', '/news/world-europe-64985009', '/news/world-australia-64984948', '/news/world-us-canada-64970156', '/news/business-64897827', '/news/world-64976139', '/news/business-64783843', '/news/world-africa-64976952', '/news/world-asia-64987190', '/news/world-europe-64981376', '/news/world-64977487', '/news/world-us-canada-64974825', '/news/world-europe-64974827'], 'business': ['/news/world-us-canada-64984291', '/news/technology-64973156', '/news/technology-64970062', '/news/science-environment-64973383', '/news/uk-politics-64975672', '/news/world-us-canada-64968609', '/news/world-asia-india-64948054', '/news/world-latin-america-64960385', '/news/business-64950747', '/news/business-64951630', '/news/business-64703976', '/news/business-64899189', '/news/business-64872465', '/news/world-asia-india-64248510', '/news/business-64225024', '/news/business-63958634', '/news/stories-63412071', '/news/business-63294041'], 'technology': ['/news/business-64960985', '/news/technology-64959346', '/news/technology-64954124', '/news/business-64947695', '/news/world-us-canada-64935170', '/news/technology-64939556', '/news/64919126', '/news/world-asia-india-64889122', '/news/stories-64512319', '/news/world-us-canada-64377359', '/news/technology-64410982', '/news/stories-63755128', '/news/business-64636384', '/news/business-64623955'], 'science_and_environment': ['/news/science-environment-64940840', '/news/uk-england-norfolk-64944384', '/news/science-environment-64814781', '/news/business-59212992', '/news/science-environment-64966953', '/news/science-environment-64965767', '/news/science-environment-64815782', '/news/science-environment-64649596', '/news/stories-64250382', '/news/science-environment-64192508', '/news/science-environment-64864956', '/news/uk-england-beds-bucks-herts-64855011', '/news/science-environment-64838254', '/news/science-environment-64603521'], 'stories': ['/news/world-middle-east-63851215', '/news/world-63727404', '/news/uk-62821117', '/news/world-63213567', '/news/uk-63116989', '/news/disability-63171959', '/news/world-us-canada-62786001', '/news/uk-60988410', '/news/world-africa-60841291', '/news/world-europe-60996098', '/news/science-environment-60836892', '/news/uk-england-london-60933534', '/news/world-61074576', '/news/world-59513177', '/news/stories-59075832', '/news/stories-58582499', '/news/uk-57469036'], 'entertainment_and_arts': ['/news/entertainment-arts-64986451', '/news/entertainment-arts-64987126', '/news/uk-64976013', '/news/uk-northern-ireland-64983004', '/news/uk-england-manchester-64982026', '/news/uk-england-leicestershire-64968369', '/news/entertainment-arts-64980687', '/news/entertainment-arts-64935067', '/news/entertainment-arts-64935289', '/news/entertainment-arts-64935479', '/news/entertainment-arts-64946198', '/news/uk-politics-64963731', '/news/uk-64946486', '/news/entertainment-arts-64942684', '/news/entertainment-arts-64935382', '/news/entertainment-arts-64935379'], 'health': ['/news/uk-northern-ireland-64966567', '/news/world-64838936', '/news/uk-scotland-highlands-islands-64951429', '/news/world-us-canada-64788678', '/news/uk-england-somerset-64894342', '/news/world-us-canada-64985191', '/news/health-64976183', '/news/uk-england-nottinghamshire-64917852', '/news/world-64974346', '/news/world-asia-india-62987703', '/news/uk-england-bristol-64861258', '/news/world-asia-china-57268111', '/news/uk-64876195', '/news/uk-england-london-64660582', '/news/uk-politics-64814500', '/news/health-64643769', '/news/world-europe-64630282']}\n"
     ]
    }
   ],
   "source": [
    "load_dotenv()\n",
    "chrome_options = webdriver.ChromeOptions()\n",
    "chrome_options.add_argument(\"--headless\")\n",
    "chrome_options.add_argument(\"--disable-gpu\")\n",
    "chrome_options.add_argument(\"--no-sandbox\")\n",
    "chrome_options.add_argument(\"--disable-dev-shm-usage\")\n",
    "chrome_options.add_argument(\"--window-size=1920,1080\")\n",
    "driver = webdriver.Chrome(options=chrome_options)\n",
    "\n",
    "news_types = {\n",
    "    \"world\": [], \n",
    "    \"business\": [], \n",
    "    \"technology\": [], \n",
    "    \"science_and_environment\": [], \n",
    "    \"stories\": [], \n",
    "    \"entertainment_and_arts\": [], \n",
    "    \"health\": []\n",
    "}\n",
    "news_temp_set = set()\n",
    "for news_type in news_types.keys():\n",
    "    driver.get(\"https://www.bbc.com/news/\" + news_type)\n",
    "    soup = BeautifulSoup(driver.page_source, \"html.parser\")\n",
    "    title_tags = soup.select(\"a.gs-c-promo-heading\")\n",
    "    for title_tag in title_tags:\n",
    "        if \"news\" in title_tag[\"href\"] and \"http\" not in title_tag[\"href\"] and title_tag[\"href\"] not in news_temp_set:\n",
    "            news_types[news_type].append(title_tag[\"href\"])\n",
    "            news_temp_set.add(title_tag[\"href\"])\n",
    "            \n",
    "    print(news_type)\n",
    "print(news_types)"
   ]
  },
  {
   "attachments": {},
   "cell_type": "markdown",
   "metadata": {},
   "source": [
    "#### 爬取BBC文章內容，並insert進elasticsearch"
   ]
  },
  {
   "cell_type": "code",
   "execution_count": null,
   "metadata": {},
   "outputs": [],
   "source": [
    "usename = os.getenv(\"ELASTICSEARCH_USERNAME\")\n",
    "password = os.getenv(\"ELASTICSEARCH_PASSWORD\")\n",
    "elastic_host = os.getenv(\"ELASTICSEARCH_HOST\")\n",
    "es = Elasticsearch(hosts=elastic_host, basic_auth=(usename, password))\n",
    "base_url = \"https://www.bbc.com\"\n",
    "for key in news_types.keys():\n",
    "    num = 0\n",
    "    for sub_url in news_types[key]:\n",
    "        driver.get(base_url + sub_url)\n",
    "        soup = BeautifulSoup(driver.page_source, \"html.parser\")\n",
    "        article = soup.select(\"article\")\n",
    "        try:\n",
    "            # 網址有可能是新聞影片\n",
    "            header = article[0].select(\"header > h1\")[0].text\n",
    "        except:\n",
    "            pass\n",
    "        else:\n",
    "            contents = article[0].select(\"div[data-component='text-block']\")\n",
    "            news = \" \".join([content.text for content in contents])\n",
    "            # 控制新聞字數在800字內\n",
    "            if len(news.split()) < 800:\n",
    "                num += 1\n",
    "                news_tw = translate_news(news)\n",
    "                es.index(\n",
    "                    index=\"bbc_news\",\n",
    "                    id=str(uuid.uuid4()),\n",
    "                    document={\n",
    "                        \"type\": key,\n",
    "                        \"title\": header,\n",
    "                        \"content\": news,\n",
    "                        \"zh_tw\": news_tw,\n",
    "                        \"date\": str(date.today())\n",
    "                    }\n",
    "                )\n",
    "                print(key)\n",
    "                # 每個主題的新聞只insert 1個\n",
    "                if num == 1:\n",
    "                    break\n",
    "es.close()\n"
   ]
  }
 ],
 "metadata": {
  "kernelspec": {
   "display_name": "Python 3",
   "language": "python",
   "name": "python3"
  },
  "language_info": {
   "codemirror_mode": {
    "name": "ipython",
    "version": 3
   },
   "file_extension": ".py",
   "mimetype": "text/x-python",
   "name": "python",
   "nbconvert_exporter": "python",
   "pygments_lexer": "ipython3",
   "version": "3.10.10"
  },
  "orig_nbformat": 4
 },
 "nbformat": 4,
 "nbformat_minor": 2
}
